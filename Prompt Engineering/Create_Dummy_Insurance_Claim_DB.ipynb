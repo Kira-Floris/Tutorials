{
 "cells": [
  {
   "cell_type": "code",
   "execution_count": 22,
   "id": "a62c34f9",
   "metadata": {},
   "outputs": [],
   "source": [
    "import os\n",
    "import json\n",
    "import pandas as pd\n",
    "from sqlalchemy import create_engine\n",
    "\n",
    "# Configuration\n",
    "JSON_FILE = 'resources/insurance_claims.json'                # Path to your JSON data file\n",
    "RESOURCES_DIR = 'resources'               # Folder to store the database\n",
    "DB_FILENAME = 'insurance_claims.db'      # Database file name\n",
    "TABLE_NAME = 'claims'\n",
    "\n",
    "# Ensure resources directory exists\n",
    "os.makedirs(RESOURCES_DIR, exist_ok=True)\n",
    "# Construct full database path\n",
    "db_path = os.path.join(RESOURCES_DIR, DB_FILENAME)\n",
    "# SQLite database URI\n",
    "DATABASE_URI = f'sqlite:///{db_path}'\n",
    "\n",
    "\n",
    "def load_data_from_json(filepath: str) -> pd.DataFrame:\n",
    "    \"\"\"\n",
    "    Load claim records from a JSON file into a pandas DataFrame.\n",
    "    The JSON should be a list of objects matching the schema.\n",
    "    \"\"\"\n",
    "    with open(filepath, 'r', encoding='utf-8') as file:\n",
    "        data = json.load(file)\n",
    "    df = pd.DataFrame(data)\n",
    "    # Convert date strings to datetime\n",
    "    if 'Date of Loss' in df.columns:\n",
    "        df['Date of Loss'] = pd.to_datetime(df['Date of Loss'])\n",
    "    return df\n",
    "\n",
    "\n",
    "def save_to_sql(df: pd.DataFrame, db_uri: str, table_name: str):\n",
    "    \"\"\"\n",
    "    Save the DataFrame to the specified SQL table.\n",
    "    Replaces the table if it already exists.\n",
    "    \"\"\"\n",
    "    engine = create_engine(db_uri)\n",
    "    df.to_sql(table_name, con=engine, if_exists='replace', index=False)\n",
    "    print(f\"Inserted {len(df)} records into '{table_name}' in database at '{db_uri}'\")"
   ]
  },
  {
   "cell_type": "code",
   "execution_count": 23,
   "id": "f11300bd",
   "metadata": {},
   "outputs": [
    {
     "name": "stdout",
     "output_type": "stream",
     "text": [
      "Inserted 19 records into 'claims' in database at 'sqlite:///resources\\insurance_claims.db'\n"
     ]
    }
   ],
   "source": [
    "df_claims = load_data_from_json(JSON_FILE)\n",
    "\n",
    "# Save to database\n",
    "save_to_sql(df_claims, DATABASE_URI, TABLE_NAME)\n"
   ]
  },
  {
   "cell_type": "code",
   "execution_count": null,
   "id": "6ed889d2",
   "metadata": {},
   "outputs": [],
   "source": []
  }
 ],
 "metadata": {
  "kernelspec": {
   "display_name": "base",
   "language": "python",
   "name": "python3"
  },
  "language_info": {
   "codemirror_mode": {
    "name": "ipython",
    "version": 3
   },
   "file_extension": ".py",
   "mimetype": "text/x-python",
   "name": "python",
   "nbconvert_exporter": "python",
   "pygments_lexer": "ipython3",
   "version": "3.11.4"
  }
 },
 "nbformat": 4,
 "nbformat_minor": 5
}
